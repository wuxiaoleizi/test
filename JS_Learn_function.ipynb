{
 "cells": [
  {
   "cell_type": "code",
   "execution_count": null,
   "metadata": {},
   "outputs": [],
   "source": [
    "var a = 2"
   ]
  },
  {
   "cell_type": "code",
   "execution_count": null,
   "metadata": {},
   "outputs": [],
   "source": [
    "console.log(a)\n",
    "\n",
    "function num() {\n",
    "    console.log(2)\n",
    "}\n",
    "\n",
    "num()"
   ]
  },
  {
   "cell_type": "code",
   "execution_count": 7,
   "metadata": {},
   "outputs": [
    {
     "name": "stdout",
     "output_type": "stream",
     "text": [
      "{ value: 'a', done: false }\n"
     ]
    }
   ],
   "source": [
    "let tell = function* () {\n",
    "\tyield 'a';\n",
    "\tyield 'b';\n",
    "\treturn 'c';\n",
    "} \n",
    "let k = tell();\n",
    "console.log(k.next())"
   ]
  },
  {
   "cell_type": "markdown",
   "metadata": {},
   "source": [
    "## 箭头函数\n",
    "[廖雪峰](https://developer.mozilla.org/zh-CN/docs/Web/JavaScript/Reference/Functions/Arrow_functions)"
   ]
  },
  {
   "cell_type": "code",
   "execution_count": 11,
   "metadata": {},
   "outputs": [
    {
     "data": {
      "text/plain": [
       "[ 8, 6, 7, 9 ]"
      ]
     },
     "execution_count": 11,
     "metadata": {},
     "output_type": "execute_result"
    }
   ],
   "source": [
    "var materials = [\n",
    "  'Hydrogen',\n",
    "  'Helium',\n",
    "  'Lithium',\n",
    "  'Beryllium'\n",
    "];\n",
    "\n",
    "materials.map(function(material) { \n",
    "  return material.length; \n",
    "}); // [8, 6, 7, 9]\n",
    "\n",
    "materials.map((material) => {\n",
    "  return material.length;\n",
    "}); // [8, 6, 7, 9]\n",
    "\n",
    "materials.map(material => material.length); // [8, 6, 7, 9]"
   ]
  },
  {
   "cell_type": "code",
   "execution_count": null,
   "metadata": {},
   "outputs": [],
   "source": []
  }
 ],
 "metadata": {
  "kernelspec": {
   "display_name": "Javascript (Node.js)",
   "language": "javascript",
   "name": "javascript"
  },
  "language_info": {
   "file_extension": ".js",
   "mimetype": "application/javascript",
   "name": "javascript",
   "version": "6.9.2"
  }
 },
 "nbformat": 4,
 "nbformat_minor": 2
}
